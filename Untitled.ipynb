{
 "cells": [
  {
   "cell_type": "markdown",
   "id": "1fe49810",
   "metadata": {},
   "source": [
    "## 1 st question"
   ]
  },
  {
   "cell_type": "code",
   "execution_count": 3,
   "id": "4b709f1b",
   "metadata": {
    "scrolled": true
   },
   "outputs": [
    {
     "name": "stdout",
     "output_type": "stream",
     "text": [
      "hello world\n"
     ]
    }
   ],
   "source": [
    "print(\"hello world\")"
   ]
  },
  {
   "cell_type": "markdown",
   "id": "3ce35fd0",
   "metadata": {},
   "source": [
    "## prime number"
   ]
  },
  {
   "cell_type": "code",
   "execution_count": null,
   "id": "5ecb8ba8",
   "metadata": {},
   "outputs": [],
   "source": [
    "n = 3\n",
    "\n",
    "for loop for n:\n",
    "    empty list\n",
    "s = \"mallika\"\n",
    "\n",
    "for i in n:\n",
    "    lst[0] == s:\n",
    "        goto that list and retrive all the data from 1 to last inded\n",
    "        \n",
    "\"%.2f\" %t...use this"
   ]
  },
  {
   "cell_type": "code",
   "execution_count": null,
   "id": "5b0a3000",
   "metadata": {},
   "outputs": [],
   "source": [
    "n=int(input(\"Enter the number\"))\n",
    "if n>1:\n",
    "    for i in range(2,int(n/2)+1):\n",
    "        if (n%i==0):\n",
    "            print(\"not a prime number=\",n)\n",
    "            break\n",
    "    else:\n",
    "        print(\"Prime number=\",n)\n",
    "else:\n",
    "    print(\"not a prime number\",n)"
   ]
  },
  {
   "cell_type": "code",
   "execution_count": 4,
   "id": "0375aeb1",
   "metadata": {
    "scrolled": true
   },
   "outputs": [
    {
     "name": "stdout",
     "output_type": "stream",
     "text": [
      "2\n",
      "insert 0 5\n",
      "print\n",
      "[5]\n"
     ]
    }
   ],
   "source": [
    "l=[]\n",
    "for i in range (int(input())):\n",
    "    q=input()\n",
    "    if \"append\" in q:\n",
    "        o=q.split(\" \")\n",
    "        l.append(int(o[-1]))\n",
    "    elif \"insert\" in q:\n",
    "        o=q.split(\" \")\n",
    "        l.insert(int(o[1]),int(o[2]))\n",
    "    elif \"remove\" in q:\n",
    "        o=q.split(\" \")\n",
    "        l.remove(int(o[-1]))\n",
    "    elif \"sort\" in q:\n",
    "        l.sort()\n",
    "    elif \"pop\" in q:\n",
    "        l.pop(-1)\n",
    "    elif \"reverse\" in q:\n",
    "        l=l[::-1]\n",
    "    elif \"print\" in q:\n",
    "        print(l)"
   ]
  },
  {
   "cell_type": "code",
   "execution_count": 5,
   "id": "99252fce",
   "metadata": {},
   "outputs": [
    {
     "name": "stdout",
     "output_type": "stream",
     "text": [
      "amstrong number\n"
     ]
    }
   ],
   "source": [
    "import math\n",
    "a=\"1634\"\n",
    "s = 0\n",
    "for i in a:\n",
    "    x = int(i)\n",
    "    s+=(int(i)**(len(a)))\n",
    "if s == int(a):\n",
    "    print(\"amstrong number\")\n",
    "else:\n",
    "    print(\"not amstrong number\")"
   ]
  },
  {
   "cell_type": "code",
   "execution_count": null,
   "id": "0c3d1b44",
   "metadata": {},
   "outputs": [],
   "source": [
    "n = int(input(\"enter number\"))\n",
    "x=n\n",
    "while x>=10:\n",
    "    sum = 0\n",
    "    while x>0:\n",
    "        r=x%10\n",
    "        sum = sum+r\n",
    "        x=x//10\n",
    "    x=sum\n",
    "if sum ==1:\n",
    "    print(n,\"IS A MAGIC NUMBER\")\n",
    "else:\n",
    "    print(n,\"is not a magic number\")"
   ]
  },
  {
   "cell_type": "code",
   "execution_count": null,
   "id": "59906a0f",
   "metadata": {},
   "outputs": [],
   "source": [
    "Number= 50113\n",
    "=> 5+0+1+1+3=10\n",
    "=> 1+0=1\n",
    "This is a Magic Number"
   ]
  },
  {
   "cell_type": "code",
   "execution_count": 13,
   "id": "e21d9d9f",
   "metadata": {
    "scrolled": true
   },
   "outputs": [
    {
     "name": "stdout",
     "output_type": "stream",
     "text": [
      "not magic number\n"
     ]
    }
   ],
   "source": [
    "n = \"1720\"\n",
    "s = 0\n",
    "for i in n:\n",
    "    s+=int(i)\n",
    "r = int(str(s)[::-1])\n",
    "\n",
    "if s*r == int(n):\n",
    "    print(\"magic number\")\n",
    "else:\n",
    "    print(\"not magic number\")"
   ]
  },
  {
   "cell_type": "code",
   "execution_count": null,
   "id": "72ad5a15",
   "metadata": {},
   "outputs": [],
   "source": [
    "Number= 50113\n",
    "=> 5+0+1+1+3=10\n",
    "=> 1+0=1\n",
    "This is a Magic Number\n",
    "\n",
    "123\n",
    "6\n",
    "\n",
    "55 5+5 10\n",
    "10 1+0 1\n",
    "1"
   ]
  },
  {
   "cell_type": "code",
   "execution_count": null,
   "id": "ea1db9a9",
   "metadata": {},
   "outputs": [],
   "source": [
    "x = 1\n",
    "y = 1\n",
    "z = 2\n",
    "n = 3\n",
    "\n",
    "g=[]\n",
    "p=[]\n",
    "for i in range(x+1):\n",
    "    for j in range(y+1):\n",
    "        for k in range(z+1):\n",
    "            g.append(list((i,j,k)))\n",
    "for b in g:\n",
    "    if sum(b)!=n:\n",
    "        p.append(b)\n",
    "print(p)"
   ]
  },
  {
   "cell_type": "code",
   "execution_count": 14,
   "id": "7a344bac",
   "metadata": {
    "scrolled": true
   },
   "outputs": [
    {
     "data": {
      "text/plain": [
       "[0, 1, 2, 3, 4, 5, 6, 7, 8, 9]"
      ]
     },
     "execution_count": 14,
     "metadata": {},
     "output_type": "execute_result"
    }
   ],
   "source": [
    "n = 10\n",
    "l = [I for I in range(n)]\n",
    "l"
   ]
  },
  {
   "cell_type": "code",
   "execution_count": null,
   "id": "604db941",
   "metadata": {},
   "outputs": [],
   "source": [
    "list =[x,y,z: (x+y+z)<3, and x in range(0,x+1) and y in range(0,y+1) and z in range (0,z+1)]"
   ]
  },
  {
   "cell_type": "code",
   "execution_count": null,
   "id": "3d7d816f",
   "metadata": {},
   "outputs": [],
   "source": [
    "s = \"(()\"\n",
    "\n",
    "\"(\" = 2\n",
    "\")\" = 1"
   ]
  },
  {
   "cell_type": "code",
   "execution_count": null,
   "id": "77711902",
   "metadata": {},
   "outputs": [],
   "source": [
    "a = [1,2]\n",
    "b = [3,4]\n",
    "\n",
    "[1,2,3]  = 2\n",
    "[1,2,3,4] = (2+3)/2\n",
    "\n",
    "use extend to add lists\n",
    "\n",
    "use this for middle element int(len(n)/2-1)"
   ]
  },
  {
   "cell_type": "code",
   "execution_count": 16,
   "id": "c1be7ae3",
   "metadata": {
    "scrolled": true
   },
   "outputs": [
    {
     "name": "stdout",
     "output_type": "stream",
     "text": [
      "8686\n"
     ]
    }
   ],
   "source": [
    "[1,2,3,4]\n",
    "[2,5,4,7]\n",
    "\n",
    "print(1234 + 7452)\n",
    "\n",
    "[6,8,6,8]"
   ]
  },
  {
   "cell_type": "code",
   "execution_count": null,
   "id": "3bcdf966",
   "metadata": {},
   "outputs": [],
   "source": [
    "[10,20,30,40,50,60] k = 3\n",
    "\n",
    "\n",
    "[60,10,20,30,40,50]\n",
    "\n",
    "[50,60,10,20,30,40]\n",
    "\n",
    "[40,50,60,10,20,30]"
   ]
  },
  {
   "cell_type": "code",
   "execution_count": 24,
   "id": "3707a5d0",
   "metadata": {
    "scrolled": false
   },
   "outputs": [
    {
     "data": {
      "text/plain": [
       "[40, 50, 60, 10, 20, 30]"
      ]
     },
     "execution_count": 24,
     "metadata": {},
     "output_type": "execute_result"
    }
   ],
   "source": [
    "n = [10,20,30,40,50,60]\n",
    "k = 3\n",
    "for i in range(k):\n",
    "    s = n.pop()\n",
    "    n.insert(0,s)\n",
    "n"
   ]
  },
  {
   "cell_type": "code",
   "execution_count": 25,
   "id": "8ccc01a7",
   "metadata": {
    "scrolled": true
   },
   "outputs": [
    {
     "data": {
      "text/plain": [
       "[1, 2]"
      ]
     },
     "execution_count": 25,
     "metadata": {},
     "output_type": "execute_result"
    }
   ],
   "source": [
    "s =[1,2,3]\n",
    "s.pop()\n",
    "s"
   ]
  }
 ],
 "metadata": {
  "kernelspec": {
   "display_name": "Python 3 (ipykernel)",
   "language": "python",
   "name": "python3"
  },
  "language_info": {
   "codemirror_mode": {
    "name": "ipython",
    "version": 3
   },
   "file_extension": ".py",
   "mimetype": "text/x-python",
   "name": "python",
   "nbconvert_exporter": "python",
   "pygments_lexer": "ipython3",
   "version": "3.9.7"
  }
 },
 "nbformat": 4,
 "nbformat_minor": 5
}
